{
 "cells": [
  {
   "cell_type": "code",
   "execution_count": null,
   "metadata": {},
   "outputs": [],
   "source": [
    "! pip install pybind11\n",
    "! pip install git+https://github.com/TadaoYamaoka/cmajiang\n",
    "! pip install git+https://github.com/po3rin/mahjong-question-generator.git\n",
    "! pip install kanjize pydub librosa\n",
    "! pip install -q espnet pypinyin parallel_wavegan gdown espnet_model_zoo\n",
    "! pip install -q --no-build-isolation pyopenjtalk"
   ]
  },
  {
   "cell_type": "code",
   "execution_count": null,
   "metadata": {},
   "outputs": [],
   "source": [
    "import io\n",
    "import time\n",
    "import warnings\n",
    "from base64 import b64decode\n",
    "\n",
    "import librosa\n",
    "import numpy as np\n",
    "import pandas as pd\n",
    "from IPython.display import display, Audio, Javascript\n",
    "from cmajiang import Shoupai\n",
    "from espnet_model_zoo.downloader import ModelDownloader\n",
    "from espnet2.bin.asr_inference import Speech2Text\n",
    "from kanjize import number2kanji\n",
    "from google.colab import output\n",
    "from base64 import b64decode\n",
    "from mahjong_question_generator import generate_question\n",
    "from pydub import AudioSegment"
   ]
  },
  {
   "cell_type": "code",
   "execution_count": null,
   "metadata": {},
   "outputs": [],
   "source": [
    "warnings.filterwarnings('ignore')"
   ]
  },
  {
   "cell_type": "code",
   "execution_count": null,
   "metadata": {},
   "outputs": [],
   "source": [
    "d = ModelDownloader()\n",
    "speech2text = Speech2Text(\n",
    "  **d.download_and_unpack(\"kan-bayashi/csj_asr_train_asr_transformer_raw_char_sp_valid.acc.ave\"),\n",
    "  device=\"cuda\"\n",
    ")"
   ]
  },
  {
   "cell_type": "code",
   "execution_count": null,
   "metadata": {},
   "outputs": [],
   "source": [
    "RECORD = \"\"\"\n",
    "const sleep = time => new Promise(resolve => setTimeout(resolve, time))\n",
    "const b2text = blob => new Promise(resolve => {\n",
    "  const reader = new FileReader()\n",
    "  reader.onloadend = e => resolve(e.srcElement.result)\n",
    "  reader.readAsDataURL(blob)\n",
    "})\n",
    "var record = time => new Promise(async resolve => {\n",
    "  stream = await navigator.mediaDevices.getUserMedia({ audio: true })\n",
    "  recorder = new MediaRecorder(stream)\n",
    "  chunks = []\n",
    "  recorder.ondataavailable = e => chunks.push(e.data)\n",
    "  recorder.start()\n",
    "  await sleep(time)\n",
    "  recorder.onstop = async ()=>{\n",
    "    blob = new Blob(chunks)\n",
    "    text = await b2text(blob)\n",
    "    resolve(text)\n",
    "  }\n",
    "  recorder.stop()\n",
    "})\n",
    "\"\"\"\n",
    "\n",
    "def record(sec, filename='audio.wav'):\n",
    "  display(Javascript(RECORD))\n",
    "  s = output.eval_js('record(%d)' % (sec * 1000))\n",
    "  b = b64decode(s.split(',')[1])\n",
    "  with open(filename, 'wb+') as f:\n",
    "    f.write(b)"
   ]
  },
  {
   "cell_type": "code",
   "execution_count": null,
   "metadata": {},
   "outputs": [],
   "source": [
    "%%capture\n",
    "df = generate_question(n=3)\n",
    "questions = df.to_dict('records')"
   ]
  },
  {
   "cell_type": "code",
   "execution_count": null,
   "metadata": {},
   "outputs": [],
   "source": [
    "def convert_answer_for_voice_assertion(q: dict) -> str:\n",
    "  # 音声データと比較するための回答を用意\n",
    "  if q[\"hand_value_cost_additional\"] == 0:\n",
    "    # ロン\n",
    "    answer_for_voice_assertion = number2kanji(q[\"hand_value_cost_main\"])\n",
    "  elif q[\"hand_value_cost_additional\"] == q[\"hand_value_cost_main\"]:\n",
    "    # 親のツモあがり\n",
    "    answer_for_voice_assertion = number2kanji(q[\"hand_value_cost_main\"]) + 'オール'\n",
    "  elif q[\"hand_value_cost_additional\"] != 0:\n",
    "    # 子のツモあがり\n",
    "    answer_for_voice_assertion = number2kanji(q[\"hand_value_cost_additional\"]) + number2kanji(q[\"hand_value_cost_main\"])\n",
    "  return answer_for_voice_assertion\n",
    "\n",
    "\n",
    "def adjust_speech(text: str) -> str:\n",
    "  # 「千」が「ん」にされることが多い\n",
    "  if text == \"ん\":\n",
    "    text = \"千\"\n",
    "  # たまに「ん」が入り込む\n",
    "  if 'ん' in text:\n",
    "    text = text.replace('ん', '')\n",
    "  return text"
   ]
  },
  {
   "cell_type": "code",
   "execution_count": null,
   "metadata": {},
   "outputs": [],
   "source": [
    "for q in questions[:3]:\n",
    "  answer_for_voice_assertion = convert_answer_for_voice_assertion(q)\n",
    "\n",
    "  print('======================================')\n",
    "  print(f'場風: {q[\"round_wind\"]}, 自風: {q[\"player_wind\"]}')\n",
    "  print('ドラ表示牌')\n",
    "  display(Shoupai(q['dora_str']))\n",
    "  print('------------------------------------------------------------------')\n",
    "  print('手牌')\n",
    "  display(Shoupai(q['hand']))\n",
    "  print('リーチ' if q['is_riichi'] else '', 'ツモ' if q['is_tsumo'] else 'ロン', '海底摸月' if q['is_haitei'] else '', '河底撈魚' if q['is_houtei'] else '')\n",
    "  display(Shoupai(q['win_tile']))\n",
    "\n",
    "  time.sleep(3)\n",
    "  audiofile = \"audio.wav\"\n",
    "  second = 5\n",
    "  print(f\"点数申告をマイクで入力してください 制限時間 {second} 秒...\")\n",
    "  record(second, audiofile)\n",
    "  # speech = record2array(second)\n",
    "  print(\"回答を受け付けました\")\n",
    "\n",
    "  speech, sr = librosa.core.load(\"audio.wav\", sr=16000)\n",
    "  nbests = speech2text(speech)\n",
    "  text, *_ = nbests[0]\n",
    "\n",
    "  text = adjust_speech(text)\n",
    "\n",
    "  print(f\"音声が認識した点数申告: {text}\")\n",
    "\n",
    "  if answer_for_voice_assertion == text:\n",
    "      print('正解です')\n",
    "  else:\n",
    "    print(f'間違っています。正解は {q[\"hand_value_han\"]}飜{q[\"hand_value_hu\"]}符, {q[\"hand_value_cost_additional\"]}, {q[\"hand_value_cost_main\"]}です。')\n",
    "    print(f'役: {q[\"hand_value_yaku\"]}')\n",
    "\n",
    "print(\"お疲れ様でした。全ての問題が終了しました\")\n"
   ]
  }
 ],
 "metadata": {
  "kernelspec": {
   "display_name": "Python 3.10.7 ('.venv': poetry)",
   "language": "python",
   "name": "python3"
  },
  "language_info": {
   "codemirror_mode": {
    "name": "ipython",
    "version": 3
   },
   "file_extension": ".py",
   "mimetype": "text/x-python",
   "name": "python",
   "nbconvert_exporter": "python",
   "pygments_lexer": "ipython3",
   "version": "3.10.7"
  },
  "orig_nbformat": 4,
  "vscode": {
   "interpreter": {
    "hash": "8bca93e26d2fedb0ef977ae38c5de0c1c0bf236c50b3fc150eaf393bf7cf8ce1"
   }
  }
 },
 "nbformat": 4,
 "nbformat_minor": 2
}
