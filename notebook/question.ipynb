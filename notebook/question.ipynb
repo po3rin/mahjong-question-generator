{
 "cells": [
  {
   "cell_type": "code",
   "execution_count": null,
   "metadata": {},
   "outputs": [],
   "source": [
    "import time\n",
    "\n",
    "import pandas as pd\n",
    "from IPython.display import display\n",
    "from cmajiang import Shoupai"
   ]
  },
  {
   "cell_type": "code",
   "execution_count": null,
   "metadata": {},
   "outputs": [],
   "source": [
    "df = pd.read_csv('question.csv')\n",
    "questions = df.to_dict('records')"
   ]
  },
  {
   "cell_type": "code",
   "execution_count": null,
   "metadata": {},
   "outputs": [],
   "source": [
    "for q in questions[:3]:\n",
    "  print('======================================')\n",
    "  print(f'場風: {q[\"round_wind\"]}, 自風: {q[\"player_wind\"]}')\n",
    "  print('ドラ表示牌')\n",
    "  display(Shoupai(q['dora_str']))\n",
    "  print('------------------------------------------------------------------')\n",
    "  print('手牌')\n",
    "  display(Shoupai(q['hand']))\n",
    "  print('リーチ' if q['is_riichi'] else '', 'ツモ' if q['is_tsumo'] else 'ロン', '海底摸月' if q['is_haitei'] else '', '河底撈魚' if q['is_houtei'] else '')\n",
    "  display(Shoupai(q['win_tile']))\n",
    "\n",
    "  time.sleep(1)\n",
    "  answer = input('回答: ')\n",
    "  answer_split = answer.split(' ')\n",
    "\n",
    "  correct = False\n",
    "  if len(answer_split) == 1:\n",
    "    if answer == str(q[\"hand_value_cost_main\"]) and q[\"hand_value_cost_additional\"] == 0:\n",
    "      correct = True\n",
    "  elif len(answer_split) == 2:\n",
    "    if answer == f'{q[\"hand_value_cost_additional\"]} {q[\"hand_value_cost_main\"]}':\n",
    "      correct = True\n",
    "  else:\n",
    "    print('入力形式が間違っています')\n",
    "\n",
    "  if correct:\n",
    "      print('正解です')\n",
    "  else:\n",
    "    print(f'間違っています。正解は {q[\"hand_value_han\"]}飜{q[\"hand_value_hu\"]}符, {q[\"hand_value_cost_additional\"]}, {q[\"hand_value_cost_main\"]}です。')\n",
    "    print(f'役: {q[\"hand_value_yaku\"]}')\n",
    "\n",
    "print(\"お疲れ様でした。全ての問題が終了しました\")\n"
   ]
  }
 ],
 "metadata": {
  "language_info": {
   "name": "python"
  },
  "orig_nbformat": 4
 },
 "nbformat": 4,
 "nbformat_minor": 2
}
